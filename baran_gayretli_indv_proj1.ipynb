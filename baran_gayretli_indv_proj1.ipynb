{
 "cells": [
  {
   "cell_type": "markdown",
   "metadata": {},
   "source": [
    "### Name Surname: Baran Gayretli\n",
    "### Student Number: 23527\n",
    "### Email: barangayretli@sabanciuniv.edu"
   ]
  },
  {
   "cell_type": "code",
   "execution_count": 1,
   "metadata": {},
   "outputs": [
    {
     "name": "stdout",
     "output_type": "stream",
     "text": [
      "Requirement already satisfied: reverse_geocoder in c:\\users\\baran\\anaconda3\\lib\\site-packages (1.5.1)\n",
      "Requirement already satisfied: numpy>=1.11.0 in c:\\users\\baran\\anaconda3\\lib\\site-packages (from reverse_geocoder) (1.15.1)\n",
      "Requirement already satisfied: scipy>=0.17.1 in c:\\users\\baran\\anaconda3\\lib\\site-packages (from reverse_geocoder) (1.1.0)\n",
      "Requirement already satisfied: geopy in c:\\users\\baran\\anaconda3\\lib\\site-packages (1.18.1)\n",
      "Requirement already satisfied: geographiclib<2,>=1.49 in c:\\users\\baran\\anaconda3\\lib\\site-packages (from geopy) (1.49)\n",
      "Requirement already satisfied: geocoder in c:\\users\\baran\\anaconda3\\lib\\site-packages (1.38.1)\n",
      "Requirement already satisfied: six in c:\\users\\baran\\anaconda3\\lib\\site-packages (from geocoder) (1.11.0)\n",
      "Requirement already satisfied: click in c:\\users\\baran\\anaconda3\\lib\\site-packages (from geocoder) (6.7)\n",
      "Requirement already satisfied: future in c:\\users\\baran\\anaconda3\\lib\\site-packages (from geocoder) (0.17.1)\n",
      "Requirement already satisfied: ratelim in c:\\users\\baran\\anaconda3\\lib\\site-packages (from geocoder) (0.1.6)\n",
      "Requirement already satisfied: requests in c:\\users\\baran\\anaconda3\\lib\\site-packages (from geocoder) (2.19.1)\n",
      "Requirement already satisfied: decorator in c:\\users\\baran\\anaconda3\\lib\\site-packages (from ratelim->geocoder) (4.3.0)\n",
      "Requirement already satisfied: urllib3<1.24,>=1.21.1 in c:\\users\\baran\\anaconda3\\lib\\site-packages (from requests->geocoder) (1.23)\n",
      "Requirement already satisfied: certifi>=2017.4.17 in c:\\users\\baran\\anaconda3\\lib\\site-packages (from requests->geocoder) (2019.3.9)\n",
      "Requirement already satisfied: idna<2.8,>=2.5 in c:\\users\\baran\\anaconda3\\lib\\site-packages (from requests->geocoder) (2.7)\n",
      "Requirement already satisfied: chardet<3.1.0,>=3.0.2 in c:\\users\\baran\\anaconda3\\lib\\site-packages (from requests->geocoder) (3.0.4)\n",
      "Requirement already satisfied: researchpy in c:\\users\\baran\\anaconda3\\lib\\site-packages (0.1.6)\n",
      "Requirement already satisfied: pandas in c:\\users\\baran\\anaconda3\\lib\\site-packages (from researchpy) (0.23.4)\n",
      "Requirement already satisfied: numpy in c:\\users\\baran\\anaconda3\\lib\\site-packages (from researchpy) (1.15.1)\n",
      "Requirement already satisfied: scipy in c:\\users\\baran\\anaconda3\\lib\\site-packages (from researchpy) (1.1.0)\n",
      "Requirement already satisfied: statsmodels in c:\\users\\baran\\anaconda3\\lib\\site-packages (from researchpy) (0.9.0)\n",
      "Requirement already satisfied: python-dateutil>=2.5.0 in c:\\users\\baran\\anaconda3\\lib\\site-packages (from pandas->researchpy) (2.7.3)\n",
      "Requirement already satisfied: pytz>=2011k in c:\\users\\baran\\anaconda3\\lib\\site-packages (from pandas->researchpy) (2018.5)\n",
      "Requirement already satisfied: six>=1.5 in c:\\users\\baran\\anaconda3\\lib\\site-packages (from python-dateutil>=2.5.0->pandas->researchpy) (1.11.0)\n"
     ]
    }
   ],
   "source": [
    "!pip install reverse_geocoder\n",
    "!pip install geopy\n",
    "!pip install geocoder\n",
    "!pip install researchpy"
   ]
  },
  {
   "cell_type": "code",
   "execution_count": 2,
   "metadata": {
    "scrolled": true
   },
   "outputs": [],
   "source": [
    "import pandas as pd\n",
    "from IPython.display import display\n",
    "import numpy as np\n",
    "import csv\n",
    "import datetime\n",
    "from geopy.distance import geodesic,great_circle\n",
    "from statsmodels.formula.api import ols\n",
    "from scipy import stats\n",
    "import seaborn as sns\n",
    "import researchpy as rp\n",
    "import statsmodels.api as sm\n",
    "import matplotlib.pyplot as plt\n",
    "import matplotlib.pyplot as plt\n",
    "import reverse_geocoder as rg\n",
    "\n",
    "df = pd.read_csv('taxi-trips.csv')"
   ]
  },
  {
   "cell_type": "markdown",
   "metadata": {},
   "source": [
    "## DATA EXPLORATION"
   ]
  },
  {
   "cell_type": "markdown",
   "metadata": {},
   "source": [
    "### Data types in dataframe"
   ]
  },
  {
   "cell_type": "code",
   "execution_count": 3,
   "metadata": {},
   "outputs": [
    {
     "data": {
      "text/plain": [
       "id                     object\n",
       "vendor_id               int64\n",
       "pickup_datetime        object\n",
       "dropoff_datetime       object\n",
       "passenger_count         int64\n",
       "pickup_longitude      float64\n",
       "pickup_latitude       float64\n",
       "dropoff_longitude     float64\n",
       "dropoff_latitude      float64\n",
       "store_and_fwd_flag     object\n",
       "trip_duration           int64\n",
       "dtype: object"
      ]
     },
     "metadata": {},
     "output_type": "display_data"
    }
   ],
   "source": [
    "display(df.dtypes)"
   ]
  },
  {
   "cell_type": "markdown",
   "metadata": {},
   "source": [
    "### Descriptive Statistics of Dataset"
   ]
  },
  {
   "cell_type": "code",
   "execution_count": 4,
   "metadata": {},
   "outputs": [
    {
     "data": {
      "text/html": [
       "<div>\n",
       "<style scoped>\n",
       "    .dataframe tbody tr th:only-of-type {\n",
       "        vertical-align: middle;\n",
       "    }\n",
       "\n",
       "    .dataframe tbody tr th {\n",
       "        vertical-align: top;\n",
       "    }\n",
       "\n",
       "    .dataframe thead th {\n",
       "        text-align: right;\n",
       "    }\n",
       "</style>\n",
       "<table border=\"1\" class=\"dataframe\">\n",
       "  <thead>\n",
       "    <tr style=\"text-align: right;\">\n",
       "      <th></th>\n",
       "      <th>vendor_id</th>\n",
       "      <th>passenger_count</th>\n",
       "      <th>pickup_longitude</th>\n",
       "      <th>pickup_latitude</th>\n",
       "      <th>dropoff_longitude</th>\n",
       "      <th>dropoff_latitude</th>\n",
       "      <th>trip_duration</th>\n",
       "    </tr>\n",
       "  </thead>\n",
       "  <tbody>\n",
       "    <tr>\n",
       "      <th>count</th>\n",
       "      <td>118185.000000</td>\n",
       "      <td>118185.000000</td>\n",
       "      <td>118185.000000</td>\n",
       "      <td>118185.000000</td>\n",
       "      <td>118185.000000</td>\n",
       "      <td>118185.000000</td>\n",
       "      <td>118185.000000</td>\n",
       "    </tr>\n",
       "    <tr>\n",
       "      <th>mean</th>\n",
       "      <td>1.534958</td>\n",
       "      <td>1.657148</td>\n",
       "      <td>-73.973971</td>\n",
       "      <td>40.751392</td>\n",
       "      <td>-73.973538</td>\n",
       "      <td>40.752212</td>\n",
       "      <td>927.186310</td>\n",
       "    </tr>\n",
       "    <tr>\n",
       "      <th>std</th>\n",
       "      <td>0.498779</td>\n",
       "      <td>1.313844</td>\n",
       "      <td>0.040456</td>\n",
       "      <td>0.027958</td>\n",
       "      <td>0.039192</td>\n",
       "      <td>0.032284</td>\n",
       "      <td>3118.710246</td>\n",
       "    </tr>\n",
       "    <tr>\n",
       "      <th>min</th>\n",
       "      <td>1.000000</td>\n",
       "      <td>0.000000</td>\n",
       "      <td>-79.487900</td>\n",
       "      <td>40.225803</td>\n",
       "      <td>-79.487900</td>\n",
       "      <td>40.225800</td>\n",
       "      <td>1.000000</td>\n",
       "    </tr>\n",
       "    <tr>\n",
       "      <th>25%</th>\n",
       "      <td>1.000000</td>\n",
       "      <td>1.000000</td>\n",
       "      <td>-73.991875</td>\n",
       "      <td>40.737835</td>\n",
       "      <td>-73.991394</td>\n",
       "      <td>40.736462</td>\n",
       "      <td>393.000000</td>\n",
       "    </tr>\n",
       "    <tr>\n",
       "      <th>50%</th>\n",
       "      <td>2.000000</td>\n",
       "      <td>1.000000</td>\n",
       "      <td>-73.981796</td>\n",
       "      <td>40.754501</td>\n",
       "      <td>-73.979759</td>\n",
       "      <td>40.754848</td>\n",
       "      <td>652.000000</td>\n",
       "    </tr>\n",
       "    <tr>\n",
       "      <th>75%</th>\n",
       "      <td>2.000000</td>\n",
       "      <td>2.000000</td>\n",
       "      <td>-73.967575</td>\n",
       "      <td>40.768471</td>\n",
       "      <td>-73.962990</td>\n",
       "      <td>40.770077</td>\n",
       "      <td>1048.000000</td>\n",
       "    </tr>\n",
       "    <tr>\n",
       "      <th>max</th>\n",
       "      <td>2.000000</td>\n",
       "      <td>6.000000</td>\n",
       "      <td>-73.425018</td>\n",
       "      <td>41.292198</td>\n",
       "      <td>-73.055977</td>\n",
       "      <td>41.292198</td>\n",
       "      <td>86366.000000</td>\n",
       "    </tr>\n",
       "  </tbody>\n",
       "</table>\n",
       "</div>"
      ],
      "text/plain": [
       "           vendor_id  passenger_count  pickup_longitude  pickup_latitude  \\\n",
       "count  118185.000000    118185.000000     118185.000000    118185.000000   \n",
       "mean        1.534958         1.657148        -73.973971        40.751392   \n",
       "std         0.498779         1.313844          0.040456         0.027958   \n",
       "min         1.000000         0.000000        -79.487900        40.225803   \n",
       "25%         1.000000         1.000000        -73.991875        40.737835   \n",
       "50%         2.000000         1.000000        -73.981796        40.754501   \n",
       "75%         2.000000         2.000000        -73.967575        40.768471   \n",
       "max         2.000000         6.000000        -73.425018        41.292198   \n",
       "\n",
       "       dropoff_longitude  dropoff_latitude  trip_duration  \n",
       "count      118185.000000     118185.000000  118185.000000  \n",
       "mean          -73.973538         40.752212     927.186310  \n",
       "std             0.039192          0.032284    3118.710246  \n",
       "min           -79.487900         40.225800       1.000000  \n",
       "25%           -73.991394         40.736462     393.000000  \n",
       "50%           -73.979759         40.754848     652.000000  \n",
       "75%           -73.962990         40.770077    1048.000000  \n",
       "max           -73.055977         41.292198   86366.000000  "
      ]
     },
     "execution_count": 4,
     "metadata": {},
     "output_type": "execute_result"
    }
   ],
   "source": [
    "df.describe()"
   ]
  },
  {
   "cell_type": "markdown",
   "metadata": {},
   "source": [
    "### Shape of the Dataset"
   ]
  },
  {
   "cell_type": "code",
   "execution_count": 5,
   "metadata": {},
   "outputs": [
    {
     "data": {
      "text/plain": [
       "(118185, 11)"
      ]
     },
     "execution_count": 5,
     "metadata": {},
     "output_type": "execute_result"
    }
   ],
   "source": [
    "df.shape"
   ]
  },
  {
   "cell_type": "markdown",
   "metadata": {},
   "source": [
    "### Pickup and Dropoff Districts"
   ]
  },
  {
   "cell_type": "code",
   "execution_count": 6,
   "metadata": {},
   "outputs": [
    {
     "name": "stdout",
     "output_type": "stream",
     "text": [
      "Loading formatted geocoded file...\n"
     ]
    },
    {
     "data": {
      "text/html": [
       "<div>\n",
       "<style scoped>\n",
       "    .dataframe tbody tr th:only-of-type {\n",
       "        vertical-align: middle;\n",
       "    }\n",
       "\n",
       "    .dataframe tbody tr th {\n",
       "        vertical-align: top;\n",
       "    }\n",
       "\n",
       "    .dataframe thead th {\n",
       "        text-align: right;\n",
       "    }\n",
       "</style>\n",
       "<table border=\"1\" class=\"dataframe\">\n",
       "  <thead>\n",
       "    <tr style=\"text-align: right;\">\n",
       "      <th></th>\n",
       "      <th>id</th>\n",
       "      <th>vendor_id</th>\n",
       "      <th>pickup_datetime</th>\n",
       "      <th>dropoff_datetime</th>\n",
       "      <th>passenger_count</th>\n",
       "      <th>pickup_longitude</th>\n",
       "      <th>pickup_latitude</th>\n",
       "      <th>dropoff_longitude</th>\n",
       "      <th>dropoff_latitude</th>\n",
       "      <th>store_and_fwd_flag</th>\n",
       "      <th>trip_duration</th>\n",
       "      <th>pickup_district</th>\n",
       "      <th>dropoff_district</th>\n",
       "    </tr>\n",
       "  </thead>\n",
       "  <tbody>\n",
       "    <tr>\n",
       "      <th>0</th>\n",
       "      <td>id2875421</td>\n",
       "      <td>2</td>\n",
       "      <td>2016-03-14 17:24:55</td>\n",
       "      <td>2016-03-14 17:32:30</td>\n",
       "      <td>1</td>\n",
       "      <td>-73.982155</td>\n",
       "      <td>40.767937</td>\n",
       "      <td>-73.964630</td>\n",
       "      <td>40.765602</td>\n",
       "      <td>N</td>\n",
       "      <td>455</td>\n",
       "      <td>Manhattan</td>\n",
       "      <td>Manhattan</td>\n",
       "    </tr>\n",
       "    <tr>\n",
       "      <th>1</th>\n",
       "      <td>id0012891</td>\n",
       "      <td>2</td>\n",
       "      <td>2016-03-10 21:45:01</td>\n",
       "      <td>2016-03-10 22:05:26</td>\n",
       "      <td>1</td>\n",
       "      <td>-73.981049</td>\n",
       "      <td>40.744339</td>\n",
       "      <td>-73.973000</td>\n",
       "      <td>40.789989</td>\n",
       "      <td>N</td>\n",
       "      <td>1225</td>\n",
       "      <td>Long Island City</td>\n",
       "      <td>Manhattan</td>\n",
       "    </tr>\n",
       "    <tr>\n",
       "      <th>2</th>\n",
       "      <td>id3361153</td>\n",
       "      <td>1</td>\n",
       "      <td>2016-03-11 07:11:23</td>\n",
       "      <td>2016-03-11 07:20:09</td>\n",
       "      <td>1</td>\n",
       "      <td>-73.994560</td>\n",
       "      <td>40.750526</td>\n",
       "      <td>-73.978500</td>\n",
       "      <td>40.756191</td>\n",
       "      <td>N</td>\n",
       "      <td>526</td>\n",
       "      <td>Weehawken</td>\n",
       "      <td>Manhattan</td>\n",
       "    </tr>\n",
       "    <tr>\n",
       "      <th>3</th>\n",
       "      <td>id2129090</td>\n",
       "      <td>1</td>\n",
       "      <td>2016-03-14 14:05:39</td>\n",
       "      <td>2016-03-14 14:28:05</td>\n",
       "      <td>1</td>\n",
       "      <td>-73.975090</td>\n",
       "      <td>40.758766</td>\n",
       "      <td>-73.953201</td>\n",
       "      <td>40.765068</td>\n",
       "      <td>N</td>\n",
       "      <td>1346</td>\n",
       "      <td>Manhattan</td>\n",
       "      <td>Long Island City</td>\n",
       "    </tr>\n",
       "    <tr>\n",
       "      <th>4</th>\n",
       "      <td>id0256505</td>\n",
       "      <td>1</td>\n",
       "      <td>2016-03-14 15:04:38</td>\n",
       "      <td>2016-03-14 15:16:13</td>\n",
       "      <td>1</td>\n",
       "      <td>-73.994484</td>\n",
       "      <td>40.745087</td>\n",
       "      <td>-73.998993</td>\n",
       "      <td>40.722710</td>\n",
       "      <td>N</td>\n",
       "      <td>695</td>\n",
       "      <td>New York City</td>\n",
       "      <td>New York City</td>\n",
       "    </tr>\n",
       "  </tbody>\n",
       "</table>\n",
       "</div>"
      ],
      "text/plain": [
       "          id  vendor_id      pickup_datetime     dropoff_datetime  \\\n",
       "0  id2875421          2  2016-03-14 17:24:55  2016-03-14 17:32:30   \n",
       "1  id0012891          2  2016-03-10 21:45:01  2016-03-10 22:05:26   \n",
       "2  id3361153          1  2016-03-11 07:11:23  2016-03-11 07:20:09   \n",
       "3  id2129090          1  2016-03-14 14:05:39  2016-03-14 14:28:05   \n",
       "4  id0256505          1  2016-03-14 15:04:38  2016-03-14 15:16:13   \n",
       "\n",
       "   passenger_count  pickup_longitude  pickup_latitude  dropoff_longitude  \\\n",
       "0                1        -73.982155        40.767937         -73.964630   \n",
       "1                1        -73.981049        40.744339         -73.973000   \n",
       "2                1        -73.994560        40.750526         -73.978500   \n",
       "3                1        -73.975090        40.758766         -73.953201   \n",
       "4                1        -73.994484        40.745087         -73.998993   \n",
       "\n",
       "   dropoff_latitude store_and_fwd_flag  trip_duration   pickup_district  \\\n",
       "0         40.765602                  N            455         Manhattan   \n",
       "1         40.789989                  N           1225  Long Island City   \n",
       "2         40.756191                  N            526         Weehawken   \n",
       "3         40.765068                  N           1346         Manhattan   \n",
       "4         40.722710                  N            695     New York City   \n",
       "\n",
       "   dropoff_district  \n",
       "0         Manhattan  \n",
       "1         Manhattan  \n",
       "2         Manhattan  \n",
       "3  Long Island City  \n",
       "4     New York City  "
      ]
     },
     "execution_count": 6,
     "metadata": {},
     "output_type": "execute_result"
    }
   ],
   "source": [
    "\n",
    "pickup_coordinates = df[['pickup_latitude', 'pickup_longitude']].apply(tuple, axis=1).tolist()\n",
    "dropoff_coordinates = df[['dropoff_latitude', 'dropoff_longitude']].apply(tuple, axis=1).tolist()\n",
    "\n",
    "pickup_results = rg.search(pickup_coordinates, mode=2)\n",
    "df['pickup_district'] = [x['name'] for x in pickup_results]\n",
    "\n",
    "dropoff_results = rg.search(dropoff_coordinates, mode=2)\n",
    "df['dropoff_district'] = [x['name'] for x in dropoff_results]\n",
    "df.head()"
   ]
  },
  {
   "cell_type": "markdown",
   "metadata": {},
   "source": [
    "### Pickup Date time"
   ]
  },
  {
   "cell_type": "code",
   "execution_count": 7,
   "metadata": {},
   "outputs": [
    {
     "data": {
      "text/html": [
       "<div>\n",
       "<style scoped>\n",
       "    .dataframe tbody tr th:only-of-type {\n",
       "        vertical-align: middle;\n",
       "    }\n",
       "\n",
       "    .dataframe tbody tr th {\n",
       "        vertical-align: top;\n",
       "    }\n",
       "\n",
       "    .dataframe thead th {\n",
       "        text-align: right;\n",
       "    }\n",
       "</style>\n",
       "<table border=\"1\" class=\"dataframe\">\n",
       "  <thead>\n",
       "    <tr style=\"text-align: right;\">\n",
       "      <th></th>\n",
       "      <th>id</th>\n",
       "      <th>vendor_id</th>\n",
       "      <th>pickup_datetime</th>\n",
       "      <th>dropoff_datetime</th>\n",
       "      <th>passenger_count</th>\n",
       "      <th>pickup_longitude</th>\n",
       "      <th>pickup_latitude</th>\n",
       "      <th>dropoff_longitude</th>\n",
       "      <th>dropoff_latitude</th>\n",
       "      <th>store_and_fwd_flag</th>\n",
       "      <th>trip_duration</th>\n",
       "      <th>pickup_district</th>\n",
       "      <th>dropoff_district</th>\n",
       "      <th>time_of_day</th>\n",
       "    </tr>\n",
       "  </thead>\n",
       "  <tbody>\n",
       "    <tr>\n",
       "      <th>0</th>\n",
       "      <td>id2875421</td>\n",
       "      <td>2</td>\n",
       "      <td>2016-03-14 17:24:55</td>\n",
       "      <td>2016-03-14 17:32:30</td>\n",
       "      <td>1</td>\n",
       "      <td>-73.982155</td>\n",
       "      <td>40.767937</td>\n",
       "      <td>-73.964630</td>\n",
       "      <td>40.765602</td>\n",
       "      <td>N</td>\n",
       "      <td>455</td>\n",
       "      <td>Manhattan</td>\n",
       "      <td>Manhattan</td>\n",
       "      <td>rush_hour_evening</td>\n",
       "    </tr>\n",
       "    <tr>\n",
       "      <th>1</th>\n",
       "      <td>id0012891</td>\n",
       "      <td>2</td>\n",
       "      <td>2016-03-10 21:45:01</td>\n",
       "      <td>2016-03-10 22:05:26</td>\n",
       "      <td>1</td>\n",
       "      <td>-73.981049</td>\n",
       "      <td>40.744339</td>\n",
       "      <td>-73.973000</td>\n",
       "      <td>40.789989</td>\n",
       "      <td>N</td>\n",
       "      <td>1225</td>\n",
       "      <td>Long Island City</td>\n",
       "      <td>Manhattan</td>\n",
       "      <td>evening</td>\n",
       "    </tr>\n",
       "    <tr>\n",
       "      <th>2</th>\n",
       "      <td>id3361153</td>\n",
       "      <td>1</td>\n",
       "      <td>2016-03-11 07:11:23</td>\n",
       "      <td>2016-03-11 07:20:09</td>\n",
       "      <td>1</td>\n",
       "      <td>-73.994560</td>\n",
       "      <td>40.750526</td>\n",
       "      <td>-73.978500</td>\n",
       "      <td>40.756191</td>\n",
       "      <td>N</td>\n",
       "      <td>526</td>\n",
       "      <td>Weehawken</td>\n",
       "      <td>Manhattan</td>\n",
       "      <td>rush_hour_morning</td>\n",
       "    </tr>\n",
       "    <tr>\n",
       "      <th>3</th>\n",
       "      <td>id2129090</td>\n",
       "      <td>1</td>\n",
       "      <td>2016-03-14 14:05:39</td>\n",
       "      <td>2016-03-14 14:28:05</td>\n",
       "      <td>1</td>\n",
       "      <td>-73.975090</td>\n",
       "      <td>40.758766</td>\n",
       "      <td>-73.953201</td>\n",
       "      <td>40.765068</td>\n",
       "      <td>N</td>\n",
       "      <td>1346</td>\n",
       "      <td>Manhattan</td>\n",
       "      <td>Long Island City</td>\n",
       "      <td>afternoon</td>\n",
       "    </tr>\n",
       "    <tr>\n",
       "      <th>4</th>\n",
       "      <td>id0256505</td>\n",
       "      <td>1</td>\n",
       "      <td>2016-03-14 15:04:38</td>\n",
       "      <td>2016-03-14 15:16:13</td>\n",
       "      <td>1</td>\n",
       "      <td>-73.994484</td>\n",
       "      <td>40.745087</td>\n",
       "      <td>-73.998993</td>\n",
       "      <td>40.722710</td>\n",
       "      <td>N</td>\n",
       "      <td>695</td>\n",
       "      <td>New York City</td>\n",
       "      <td>New York City</td>\n",
       "      <td>afternoon</td>\n",
       "    </tr>\n",
       "  </tbody>\n",
       "</table>\n",
       "</div>"
      ],
      "text/plain": [
       "          id  vendor_id      pickup_datetime     dropoff_datetime  \\\n",
       "0  id2875421          2  2016-03-14 17:24:55  2016-03-14 17:32:30   \n",
       "1  id0012891          2  2016-03-10 21:45:01  2016-03-10 22:05:26   \n",
       "2  id3361153          1  2016-03-11 07:11:23  2016-03-11 07:20:09   \n",
       "3  id2129090          1  2016-03-14 14:05:39  2016-03-14 14:28:05   \n",
       "4  id0256505          1  2016-03-14 15:04:38  2016-03-14 15:16:13   \n",
       "\n",
       "   passenger_count  pickup_longitude  pickup_latitude  dropoff_longitude  \\\n",
       "0                1        -73.982155        40.767937         -73.964630   \n",
       "1                1        -73.981049        40.744339         -73.973000   \n",
       "2                1        -73.994560        40.750526         -73.978500   \n",
       "3                1        -73.975090        40.758766         -73.953201   \n",
       "4                1        -73.994484        40.745087         -73.998993   \n",
       "\n",
       "   dropoff_latitude store_and_fwd_flag  trip_duration   pickup_district  \\\n",
       "0         40.765602                  N            455         Manhattan   \n",
       "1         40.789989                  N           1225  Long Island City   \n",
       "2         40.756191                  N            526         Weehawken   \n",
       "3         40.765068                  N           1346         Manhattan   \n",
       "4         40.722710                  N            695     New York City   \n",
       "\n",
       "   dropoff_district        time_of_day  \n",
       "0         Manhattan  rush_hour_evening  \n",
       "1         Manhattan            evening  \n",
       "2         Manhattan  rush_hour_morning  \n",
       "3  Long Island City          afternoon  \n",
       "4     New York City          afternoon  "
      ]
     },
     "execution_count": 7,
     "metadata": {},
     "output_type": "execute_result"
    }
   ],
   "source": [
    "tuple_temp=[]\n",
    "\n",
    "def pickup_time(pickup_time):\n",
    "    \n",
    "     pickup_time=int(pickup_time[11:13])\n",
    "        \n",
    "     if(pickup_time<7):\n",
    "        tuple_temp.append(\"late_night\")\n",
    "        return ('late_night')\n",
    "     elif( pickup_time>=7 and pickup_time<9):\n",
    "        tuple_temp.append(\"rush_hour_morning\")\n",
    "        return ('rush_hour_morning')\n",
    "     elif( pickup_time>=9 and pickup_time<16):\n",
    "        tuple_temp.append(\"afternoon\")\n",
    "        return ('afternoon')\n",
    "     elif( pickup_time>=16 and pickup_time<18):\n",
    "        tuple_temp.append(\"rush_hour_evening\")\n",
    "        return ('rush_hour_evening')\n",
    "     elif( pickup_time>=18 and pickup_time<23):\n",
    "        tuple_temp.append(\"evening\")    \n",
    "        return ('evening')\n",
    "     elif( pickup_time>=23):\n",
    "        tuple_temp.append(\"late_night\")\n",
    "        return('late_night')\n",
    "    \n",
    "    \n",
    "df['time_of_day'] = df.apply(lambda x: pickup_time(x['pickup_datetime']), axis=1)\n",
    "df[\"time_of_day\"] = tuple_temp\n",
    "df.head()"
   ]
  },
  {
   "cell_type": "markdown",
   "metadata": {},
   "source": [
    "### Top 5 district where passengers prefer to leave"
   ]
  },
  {
   "cell_type": "code",
   "execution_count": 8,
   "metadata": {},
   "outputs": [
    {
     "data": {
      "text/plain": [
       "Manhattan           45329\n",
       "New York City       34625\n",
       "Long Island City    17787\n",
       "Weehawken           11334\n",
       "The Bronx            2777\n",
       "Name: pickup_district, dtype: int64"
      ]
     },
     "execution_count": 8,
     "metadata": {},
     "output_type": "execute_result"
    }
   ],
   "source": [
    "pd.value_counts(df['pickup_district'])[0:5]"
   ]
  },
  {
   "cell_type": "markdown",
   "metadata": {},
   "source": [
    "### Top 5 district where passengers prefer to arrive"
   ]
  },
  {
   "cell_type": "code",
   "execution_count": 9,
   "metadata": {},
   "outputs": [
    {
     "data": {
      "text/plain": [
       "Manhattan           44478\n",
       "New York City       31082\n",
       "Long Island City    19919\n",
       "Weehawken           10621\n",
       "Brooklyn             2059\n",
       "Name: dropoff_district, dtype: int64"
      ]
     },
     "execution_count": 9,
     "metadata": {},
     "output_type": "execute_result"
    }
   ],
   "source": [
    "pd.value_counts(df['dropoff_district'])[0:5]"
   ]
  },
  {
   "cell_type": "markdown",
   "metadata": {},
   "source": [
    "### Distance between cities"
   ]
  },
  {
   "cell_type": "code",
   "execution_count": 10,
   "metadata": {},
   "outputs": [
    {
     "data": {
      "text/html": [
       "<div>\n",
       "<style scoped>\n",
       "    .dataframe tbody tr th:only-of-type {\n",
       "        vertical-align: middle;\n",
       "    }\n",
       "\n",
       "    .dataframe tbody tr th {\n",
       "        vertical-align: top;\n",
       "    }\n",
       "\n",
       "    .dataframe thead th {\n",
       "        text-align: right;\n",
       "    }\n",
       "</style>\n",
       "<table border=\"1\" class=\"dataframe\">\n",
       "  <thead>\n",
       "    <tr style=\"text-align: right;\">\n",
       "      <th></th>\n",
       "      <th>id</th>\n",
       "      <th>vendor_id</th>\n",
       "      <th>pickup_datetime</th>\n",
       "      <th>dropoff_datetime</th>\n",
       "      <th>passenger_count</th>\n",
       "      <th>pickup_longitude</th>\n",
       "      <th>pickup_latitude</th>\n",
       "      <th>dropoff_longitude</th>\n",
       "      <th>dropoff_latitude</th>\n",
       "      <th>store_and_fwd_flag</th>\n",
       "      <th>trip_duration</th>\n",
       "      <th>pickup_district</th>\n",
       "      <th>dropoff_district</th>\n",
       "      <th>time_of_day</th>\n",
       "      <th>distance</th>\n",
       "    </tr>\n",
       "  </thead>\n",
       "  <tbody>\n",
       "    <tr>\n",
       "      <th>0</th>\n",
       "      <td>id2875421</td>\n",
       "      <td>2</td>\n",
       "      <td>2016-03-14 17:24:55</td>\n",
       "      <td>2016-03-14 17:32:30</td>\n",
       "      <td>1</td>\n",
       "      <td>-73.982155</td>\n",
       "      <td>40.767937</td>\n",
       "      <td>-73.964630</td>\n",
       "      <td>40.765602</td>\n",
       "      <td>N</td>\n",
       "      <td>455</td>\n",
       "      <td>Manhattan</td>\n",
       "      <td>Manhattan</td>\n",
       "      <td>rush_hour_evening</td>\n",
       "      <td>1.502172</td>\n",
       "    </tr>\n",
       "    <tr>\n",
       "      <th>1</th>\n",
       "      <td>id0012891</td>\n",
       "      <td>2</td>\n",
       "      <td>2016-03-10 21:45:01</td>\n",
       "      <td>2016-03-10 22:05:26</td>\n",
       "      <td>1</td>\n",
       "      <td>-73.981049</td>\n",
       "      <td>40.744339</td>\n",
       "      <td>-73.973000</td>\n",
       "      <td>40.789989</td>\n",
       "      <td>N</td>\n",
       "      <td>1225</td>\n",
       "      <td>Long Island City</td>\n",
       "      <td>Manhattan</td>\n",
       "      <td>evening</td>\n",
       "      <td>5.114807</td>\n",
       "    </tr>\n",
       "    <tr>\n",
       "      <th>2</th>\n",
       "      <td>id3361153</td>\n",
       "      <td>1</td>\n",
       "      <td>2016-03-11 07:11:23</td>\n",
       "      <td>2016-03-11 07:20:09</td>\n",
       "      <td>1</td>\n",
       "      <td>-73.994560</td>\n",
       "      <td>40.750526</td>\n",
       "      <td>-73.978500</td>\n",
       "      <td>40.756191</td>\n",
       "      <td>N</td>\n",
       "      <td>526</td>\n",
       "      <td>Weehawken</td>\n",
       "      <td>Manhattan</td>\n",
       "      <td>rush_hour_morning</td>\n",
       "      <td>1.495018</td>\n",
       "    </tr>\n",
       "    <tr>\n",
       "      <th>3</th>\n",
       "      <td>id2129090</td>\n",
       "      <td>1</td>\n",
       "      <td>2016-03-14 14:05:39</td>\n",
       "      <td>2016-03-14 14:28:05</td>\n",
       "      <td>1</td>\n",
       "      <td>-73.975090</td>\n",
       "      <td>40.758766</td>\n",
       "      <td>-73.953201</td>\n",
       "      <td>40.765068</td>\n",
       "      <td>N</td>\n",
       "      <td>1346</td>\n",
       "      <td>Manhattan</td>\n",
       "      <td>Long Island City</td>\n",
       "      <td>afternoon</td>\n",
       "      <td>1.976279</td>\n",
       "    </tr>\n",
       "    <tr>\n",
       "      <th>4</th>\n",
       "      <td>id0256505</td>\n",
       "      <td>1</td>\n",
       "      <td>2016-03-14 15:04:38</td>\n",
       "      <td>2016-03-14 15:16:13</td>\n",
       "      <td>1</td>\n",
       "      <td>-73.994484</td>\n",
       "      <td>40.745087</td>\n",
       "      <td>-73.998993</td>\n",
       "      <td>40.722710</td>\n",
       "      <td>N</td>\n",
       "      <td>695</td>\n",
       "      <td>New York City</td>\n",
       "      <td>New York City</td>\n",
       "      <td>afternoon</td>\n",
       "      <td>2.513961</td>\n",
       "    </tr>\n",
       "  </tbody>\n",
       "</table>\n",
       "</div>"
      ],
      "text/plain": [
       "          id  vendor_id      pickup_datetime     dropoff_datetime  \\\n",
       "0  id2875421          2  2016-03-14 17:24:55  2016-03-14 17:32:30   \n",
       "1  id0012891          2  2016-03-10 21:45:01  2016-03-10 22:05:26   \n",
       "2  id3361153          1  2016-03-11 07:11:23  2016-03-11 07:20:09   \n",
       "3  id2129090          1  2016-03-14 14:05:39  2016-03-14 14:28:05   \n",
       "4  id0256505          1  2016-03-14 15:04:38  2016-03-14 15:16:13   \n",
       "\n",
       "   passenger_count  pickup_longitude  pickup_latitude  dropoff_longitude  \\\n",
       "0                1        -73.982155        40.767937         -73.964630   \n",
       "1                1        -73.981049        40.744339         -73.973000   \n",
       "2                1        -73.994560        40.750526         -73.978500   \n",
       "3                1        -73.975090        40.758766         -73.953201   \n",
       "4                1        -73.994484        40.745087         -73.998993   \n",
       "\n",
       "   dropoff_latitude store_and_fwd_flag  trip_duration   pickup_district  \\\n",
       "0         40.765602                  N            455         Manhattan   \n",
       "1         40.789989                  N           1225  Long Island City   \n",
       "2         40.756191                  N            526         Weehawken   \n",
       "3         40.765068                  N           1346         Manhattan   \n",
       "4         40.722710                  N            695     New York City   \n",
       "\n",
       "   dropoff_district        time_of_day  distance  \n",
       "0         Manhattan  rush_hour_evening  1.502172  \n",
       "1         Manhattan            evening  5.114807  \n",
       "2         Manhattan  rush_hour_morning  1.495018  \n",
       "3  Long Island City          afternoon  1.976279  \n",
       "4     New York City          afternoon  2.513961  "
      ]
     },
     "execution_count": 10,
     "metadata": {},
     "output_type": "execute_result"
    }
   ],
   "source": [
    "distanceBTWcities=[]\n",
    "for i in range (0,len(pickup_coordinates)):\n",
    "    distanceBTWcities.append(geodesic(pickup_coordinates[i], dropoff_coordinates[i]).km)\n",
    "\n",
    "df['distance']=distanceBTWcities\n",
    "df.head()"
   ]
  },
  {
   "cell_type": "markdown",
   "metadata": {},
   "source": [
    "### Show how the average distance varies as time of the day changes"
   ]
  },
  {
   "cell_type": "code",
   "execution_count": 11,
   "metadata": {},
   "outputs": [
    {
     "data": {
      "text/plain": [
       "<matplotlib.axes._subplots.AxesSubplot at 0x1f3aa4a6710>"
      ]
     },
     "execution_count": 11,
     "metadata": {},
     "output_type": "execute_result"
    },
    {
     "data": {
      "image/png": "[encoded data removed]",
      "text/plain": [
       "<Figure size 432x288 with 1 Axes>"
      ]
     },
     "metadata": {
      "needs_background": "light"
     },
     "output_type": "display_data"
    }
   ],
   "source": [
    "totalDistance=df.groupby('time_of_day')['distance'].sum()/df.groupby('time_of_day')['distance'].count()\n",
    "totalDistance.plot.bar()"
   ]
  },
  {
   "cell_type": "markdown",
   "metadata": {},
   "source": [
    "### Show how the trip duration varies as time of the day changes"
   ]
  },
  {
   "cell_type": "code",
   "execution_count": 12,
   "metadata": {},
   "outputs": [
    {
     "data": {
      "text/plain": [
       "<seaborn.axisgrid.FacetGrid at 0x1f3a527b9b0>"
      ]
     },
     "execution_count": 12,
     "metadata": {},
     "output_type": "execute_result"
    },
    {
     "data": {
      "image/png": "[encoded data removed]",
      "text/plain": [
       "<Figure size 360x360 with 1 Axes>"
      ]
     },
     "metadata": {
      "needs_background": "light"
     },
     "output_type": "display_data"
    }
   ],
   "source": [
    "#visualization of how the trip duration varies as time of the day changes.\n",
    "duration=[]\n",
    "for i in range(0,118185):\n",
    "    pickuptime = datetime.datetime.strptime(df['pickup_datetime'][i], '%Y-%m-%d %H:%M:%S')\n",
    "    dropofftime = datetime.datetime.strptime(df['dropoff_datetime'][i], '%Y-%m-%d %H:%M:%S')\n",
    "    duration_as_time=dropofftime-pickuptime\n",
    "    duration_as_minute=duration_as_time.total_seconds()/60\n",
    "    duration.append(int(duration_as_minute))\n",
    "\n",
    "df[\"duration\"]=duration\n",
    "\n",
    "duration_time_of_the_day_combined=df[[\"duration\",\"time_of_day\"]]\n",
    "\n",
    "g=sns.catplot(x=\"time_of_day\",y=\"duration\",data=duration_time_of_the_day_combined)\n",
    "g.set_xticklabels(rotation=25)"
   ]
  },
  {
   "cell_type": "markdown",
   "metadata": {},
   "source": [
    "## HYPOTHESIS TESTING"
   ]
  },
  {
   "cell_type": "markdown",
   "metadata": {},
   "source": [
    "### 1-Does passenger group size affect the distance?\n",
    "### Null hypothesis: Passenger group size has no effect on the distance\n",
    "###                                   𝑥¯𝑃0=𝑥¯𝑃1=𝑥¯𝑃2=𝑥¯𝑃3=𝑥¯𝑃4=𝑥¯𝑃5=𝑥¯𝑃6\n",
    "### Alternative hypothesis: Passenger group size has effect on the distance\n",
    "### 𝑥¯𝑃0≠𝑥¯𝑃1≠𝑥¯𝑃2≠𝑥¯𝑃3≠𝑥¯𝑃4≠𝑥¯𝑃5≠𝑥¯𝑃6"
   ]
  },
  {
   "cell_type": "code",
   "execution_count": 13,
   "metadata": {},
   "outputs": [
    {
     "data": {
      "text/plain": [
       "Ttest_indResult(statistic=-4.901086885647343, pvalue=9.555133481557072e-07)"
      ]
     },
     "execution_count": 13,
     "metadata": {},
     "output_type": "execute_result"
    }
   ],
   "source": [
    "#T-test applied for passenger sizes\n",
    "temp=[]\n",
    "for i in range(0,118185):\n",
    "    if df['passenger_count'][i]==1 :\n",
    "        temp.append(1)\n",
    "    elif df['passenger_count'][i]>1 or df['passenger_count'][i]==0:\n",
    "        temp.append(2)\n",
    "        \n",
    "df[\"passengertype\"]=temp\n",
    "\n",
    "t1=df[df[\"passengertype\"] == 1][\"distance\"]\n",
    "\n",
    "t2=df[df[\"passengertype\"] == 2][\"distance\"]\n",
    "\n",
    "stats.ttest_ind(t1, t2, equal_var=False)"
   ]
  },
  {
   "cell_type": "markdown",
   "metadata": {},
   "source": [
    "Conclusion: We know from the excel file that the passenger size varies as [0,6]. We must have 2 samples which one of them has just 1 passenger and the other has 0,2,3,4,5 or 6 passengers. We've grouped our data and then applied T-tes in order to obtain p value. As a result of that test, we have observed that the P value is 9.555133481557072e-07. We also know that if the p value is smaller than 0.05 (which is the significance level), we can decline our null hypothesis. Also, the test score is negative which means that trips that have just 1 passenger has a smaller mean of distance covered than those who have 0,2,3,4,5,6 passengers."
   ]
  },
  {
   "cell_type": "markdown",
   "metadata": {},
   "source": [
    "### 2-Do trip distances increase in weekends?\n",
    "### Null hypothesis: The day of the week has no effect on the distance\n",
    "###  𝑥¯𝑊𝑒𝑒𝑘𝐷𝑎𝑦𝑠=𝑥¯𝑊𝑒𝑒𝑘𝐸𝑛𝑑𝑠\n",
    "### Alternative hypothesis: The day of the week has effect on the distance\n",
    "### 𝑥¯𝑊𝑒𝑒𝑘𝐷𝑎𝑦𝑠≠𝑥¯𝑊𝑒𝑒𝑘𝐸𝑛𝑑𝑠"
   ]
  },
  {
   "cell_type": "code",
   "execution_count": 14,
   "metadata": {},
   "outputs": [
    {
     "data": {
      "text/plain": [
       "Ttest_indResult(statistic=5.604877366928609, pvalue=2.092414433069292e-08)"
      ]
     },
     "execution_count": 14,
     "metadata": {},
     "output_type": "execute_result"
    }
   ],
   "source": [
    "#T-test applied for Days of Week\n",
    "day=[]\n",
    "for i in range(0,118185):\n",
    "    pickupday = datetime.datetime.strptime(df['pickup_datetime'][i], '%Y-%m-%d %H:%M:%S')\n",
    "    if pickupday.strftime(\"%A\")==\"Sunday\" or pickupday.strftime(\"%A\")==\"Saturday\":\n",
    "        day.append(\"weekend\")\n",
    "    else:\n",
    "        day.append(\"weekday\")\n",
    "        \n",
    "df[\"Day_of_week\"]=day\n",
    "\n",
    "t3=df[df[\"Day_of_week\"] == \"weekday\"][\"distance\"]\n",
    "\n",
    "t4=df[df[\"Day_of_week\"] == \"weekend\"][\"distance\"]\n",
    "\n",
    "stats.ttest_ind(t4, t3, equal_var=False)"
   ]
  },
  {
   "cell_type": "markdown",
   "metadata": {},
   "source": [
    "Conclusion: What we need to do the test properly is that we need to group the data by 2 sample. We will group them whether it's weekday or weekend. Once we group them, we can apply T-test. From the result of the T-test, we can see that the p value is 2.092414433069292e-08 which means that it is smaller than 0.05. Therefore, we can reject our null hypothesis. Also, the test result is positive which means that the average distance covered on Weekdays are greater than the average distance covered in Weekends. "
   ]
  },
  {
   "cell_type": "code",
   "execution_count": null,
   "metadata": {},
   "outputs": [],
   "source": []
  }
 ],
 "metadata": {
  "kernelspec": {
   "display_name": "Python 3",
   "language": "python",
   "name": "python3"
  },
  "language_info": {
   "codemirror_mode": {
    "name": "ipython",
    "version": 3
   },
   "file_extension": ".py",
   "mimetype": "text/x-python",
   "name": "python",
   "nbconvert_exporter": "python",
   "pygments_lexer": "ipython3",
   "version": "3.7.0"
  }
 },
 "nbformat": 4,
 "nbformat_minor": 2
}
